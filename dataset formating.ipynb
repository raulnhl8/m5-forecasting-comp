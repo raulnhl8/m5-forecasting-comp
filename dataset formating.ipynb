{
 "cells": [
  {
   "cell_type": "code",
   "execution_count": 8,
   "metadata": {},
   "outputs": [],
   "source": [
    "import pandas as pd\n",
    "import numpy as np"
   ]
  },
  {
   "cell_type": "code",
   "execution_count": 2,
   "metadata": {},
   "outputs": [],
   "source": [
    "df_sales = pd.read_csv(\"sales_train_validation.csv\")\n",
    "df_prices = pd.read_csv(\"sell_prices.csv\")\n",
    "df_calendar = pd.read_csv(\"calendar.csv\")"
   ]
  },
  {
   "cell_type": "code",
   "execution_count": 4,
   "metadata": {},
   "outputs": [],
   "source": [
    "stores = df_sales.store_id.unique()"
   ]
  },
  {
   "cell_type": "code",
   "execution_count": 73,
   "metadata": {},
   "outputs": [],
   "source": [
    "def generate_store_df(store_cod):\n",
    "    df_sales_AUX = df_sales[df_sales[\"store_id\"] == store_cod].copy()\n",
    "    df_prices_AUX = df_prices[df_prices[\"store_id\"] == store_cod].copy()\n",
    "    df_calendar_AUX = df_calendar.copy()\n",
    "    \n",
    "    df_sales_AUX.drop([\"id\", \"dept_id\", \"cat_id\", \"store_id\", \"state_id\"], axis=1, inplace=True)\n",
    "    df_calendar_AUX = df_calendar_AUX[[\"wm_yr_wk\",\"date\", \"d\", \"event_name_1\", \"event_type_1\", \"event_name_2\", \"event_type_2\"]]\n",
    "    \n",
    "    df_prices_AUX = df_prices_AUX.pivot(index=\"wm_yr_wk\", columns=\"item_id\", values=\"sell_price\")\n",
    "    df_prices_AUX.fillna(method=\"backfill\", axis=0, inplace=True)\n",
    "    \n",
    "    df_calendar_AUX = df_calendar_AUX.merge(df_prices_AUX, on=\"wm_yr_wk\", how=\"left\")\n",
    "    df_calendar_AUX.drop(\"wm_yr_wk\", axis=1, inplace=True)\n",
    "    \n",
    "    sales_days = [\"d_\"+str(x) for x in range(1, 1914)]\n",
    "    df_sales_AUX = pd.melt(df_sales_AUX, id_vars=[\"item_id\"], value_vars=sales_days)\n",
    "    df_sales_AUX.rename(columns = {'variable':'d'}, inplace=True)\n",
    "    df_sales_AUX = df_sales_AUX.pivot(index='d', columns='item_id', values='value')\n",
    "    df_sales_AUX.reset_index(inplace=True)\n",
    "        \n",
    "    result = df_sales_AUX.merge(df_calendar_AUX, on=\"d\", how=\"left\")\n",
    "    result.rename(columns = {'date_y':'date'}, inplace=True)\n",
    "    result[\"d\"] = result[\"d\"].apply(lambda x : int(x.split(\"_\")[1]))\n",
    "    result.set_index(\"d\", drop=True, inplace=True)\n",
    "    result.sort_index(inplace=True)\n",
    "    result.columns = result.columns.str.replace(\"_x\", \"_sells\")\n",
    "    result.columns = result.columns.str.replace(\"_y\", \"_price\")\n",
    "    \n",
    "    return result"
   ]
  },
  {
   "cell_type": "code",
   "execution_count": 74,
   "metadata": {},
   "outputs": [
    {
     "name": "stdout",
     "output_type": "stream",
     "text": [
      "CA_1\n",
      "\n",
      "CA_2\n",
      "\n",
      "CA_3\n",
      "\n",
      "CA_4\n",
      "\n",
      "TX_1\n",
      "\n",
      "TX_2\n",
      "\n",
      "TX_3\n",
      "\n",
      "WI_1\n",
      "\n",
      "WI_2\n",
      "\n",
      "WI_3\n",
      "\n"
     ]
    }
   ],
   "source": [
    "datasets = dict()\n",
    "for s in stores:\n",
    "    print(s + \"\\n\")\n",
    "    aux = generate_store_df(s)\n",
    "    datasets[s] = aux"
   ]
  },
  {
   "cell_type": "code",
   "execution_count": 76,
   "metadata": {},
   "outputs": [
    {
     "data": {
      "text/plain": [
       "d\n",
       "1       2011-01-29\n",
       "2       2011-01-30\n",
       "3       2011-01-31\n",
       "4       2011-02-01\n",
       "5       2011-02-02\n",
       "           ...    \n",
       "1909    2016-04-20\n",
       "1910    2016-04-21\n",
       "1911    2016-04-22\n",
       "1912    2016-04-23\n",
       "1913    2016-04-24\n",
       "Name: date, Length: 1913, dtype: object"
      ]
     },
     "execution_count": 76,
     "metadata": {},
     "output_type": "execute_result"
    }
   ],
   "source": [
    "datasets[\"CA_3\"].date"
   ]
  }
 ],
 "metadata": {
  "kernelspec": {
   "display_name": "Python 3",
   "language": "python",
   "name": "python3"
  },
  "language_info": {
   "codemirror_mode": {
    "name": "ipython",
    "version": 3
   },
   "file_extension": ".py",
   "mimetype": "text/x-python",
   "name": "python",
   "nbconvert_exporter": "python",
   "pygments_lexer": "ipython3",
   "version": "3.7.6"
  }
 },
 "nbformat": 4,
 "nbformat_minor": 4
}
